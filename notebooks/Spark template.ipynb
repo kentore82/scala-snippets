{
 "cells": [
  {
   "cell_type": "code",
   "execution_count": 3,
   "metadata": {},
   "outputs": [],
   "source": [
    "import org.apache.spark._\n",
    "import org.apache.spark.sql._\n",
    "import org.apache.spark.sql.types._"
   ]
  },
  {
   "cell_type": "code",
   "execution_count": 7,
   "metadata": {},
   "outputs": [],
   "source": [
    "//val spark = SparkSession.builder().appName(\"SparkSessionToree\")\n",
    "//.master(\"yarn\")\n",
    "//.config(\"spark.driver.memory\",\"1G\")\n",
    "//.config(\"spark.executor.instances\", \"4\")\n",
    "//.config(\"spark.executor.cores\",\"1\")\n",
    "//.config(\"spark.executor.memory\", \"1G\")\n",
    "//.enableHiveSupport().getOrCreate()\n",
    "\n",
    "val spark = SparkSession.builder().appName(\"SparkSessionToree\").master(\"local\").getOrCreate()\n",
    "val sc = spark.sparkContext\n"
   ]
  },
  {
   "cell_type": "code",
   "execution_count": null,
   "metadata": {},
   "outputs": [],
   "source": [
    "val schema = StructType( Array(\n",
    "      StructField(\"sparkKey\", StringType, true),\n",
    "      StructField(\"sparkValue\", StringType, true)\n",
    "    ))\n",
    "\n",
    "val myRdd2 = sc.parallelize( Seq(Row(\"sk1\", \"sv1\"), Row(\"sk2\", \"sv2\"), Row(\"sk3\", \"sv3\"), Row(\"sk4\", \"sv4\")) )\n",
    "val myDF = spark.createDataFrame(myRdd2, schema)"
   ]
  },
  {
   "cell_type": "code",
   "execution_count": 9,
   "metadata": {},
   "outputs": [
    {
     "data": {
      "text/html": [
       "<table><tr><th>sparkKey</th><th>sparkValue</th></tr><tr><td>sk1</td><td>sv1</td></tr><tr><td>sk2</td><td>sv2</td></tr><tr><td>sk3</td><td>sv3</td></tr><tr><td>sk4</td><td>sv4</td></tr></table>"
      ]
     },
     "execution_count": 9,
     "metadata": {},
     "output_type": "execute_result"
    }
   ],
   "source": [
    "%%dataframe\n",
    "myDF"
   ]
  },
  {
   "cell_type": "code",
   "execution_count": 6,
   "metadata": {},
   "outputs": [],
   "source": [
    "spark.stop()"
   ]
  }
 ],
 "metadata": {
  "kernelspec": {
   "display_name": "Scala 2.11.7",
   "language": "scala",
   "name": "scala_2.11.7_scala"
  },
  "language_info": {
   "file_extension": ".scala",
   "name": "scala",
   "version": "2.11.8"
  }
 },
 "nbformat": 4,
 "nbformat_minor": 2
}
